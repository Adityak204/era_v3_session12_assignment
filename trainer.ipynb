{
 "cells": [
  {
   "cell_type": "code",
   "execution_count": 1,
   "metadata": {},
   "outputs": [],
   "source": [
    "import os\n",
    "import torch\n",
    "import torch.nn as nn\n",
    "import torch.nn.functional as F\n",
    "from dataclasses import dataclass\n",
    "\n",
    "from tqdm import tqdm\n",
    "import torch.optim as optim\n",
    "\n",
    "from src.gpt_base import GPT"
   ]
  },
  {
   "cell_type": "markdown",
   "metadata": {},
   "source": [
    "## Load Shakespear data"
   ]
  },
  {
   "cell_type": "code",
   "execution_count": 2,
   "metadata": {},
   "outputs": [
    {
     "data": {
      "text/plain": [
       "'First Citizen:\\nBefore we proceed any further, hear me speak.\\n\\nAll:\\nSpeak, speak.\\n\\nFirst Citizen:\\nYou'"
      ]
     },
     "execution_count": 2,
     "metadata": {},
     "output_type": "execute_result"
    }
   ],
   "source": [
    "## Load Data\n",
    "_path = \"/Users/aditya/Documents/self_learning/ERA V3/week 12/input.txt\"\n",
    "with open(_path, \"r\") as f:\n",
    "    text = f.read()\n",
    "\n",
    "text[:100]"
   ]
  },
  {
   "cell_type": "code",
   "execution_count": 3,
   "metadata": {},
   "outputs": [],
   "source": [
    "# First, let's create character-level encoding\n",
    "chars = sorted(list(set(text)))\n",
    "vocab_size = len(chars)\n",
    "stoi = {ch: i for i, ch in enumerate(chars)}\n",
    "itos = {i: ch for i, ch in enumerate(chars)}"
   ]
  },
  {
   "cell_type": "code",
   "execution_count": 49,
   "metadata": {},
   "outputs": [
    {
     "data": {
      "text/plain": [
       "65"
      ]
     },
     "execution_count": 49,
     "metadata": {},
     "output_type": "execute_result"
    }
   ],
   "source": [
    "vocab_size"
   ]
  },
  {
   "cell_type": "code",
   "execution_count": 4,
   "metadata": {},
   "outputs": [],
   "source": [
    "# Encoding/Decoding functions\n",
    "def encode(s): \n",
    "    return [stoi[c] for c in s]\n",
    "\n",
    "def decode(l): \n",
    "    return ''.join([itos[i] for i in l])"
   ]
  },
  {
   "cell_type": "markdown",
   "metadata": {},
   "source": [
    "## Model Training"
   ]
  },
  {
   "cell_type": "code",
   "execution_count": 18,
   "metadata": {},
   "outputs": [],
   "source": [
    "@dataclass\n",
    "class GPTConfig:\n",
    "    block_size: int = 1024  # max sequence length\n",
    "    vocab_size: int = 50257\n",
    "    num_layer: int = 12  # number of layers\n",
    "    num_head: int = 12  # number of heads\n",
    "    emb_dim: int = 768  # embedding dimension\n",
    "    dropout: float = 0.1  # dropout rate"
   ]
  },
  {
   "cell_type": "code",
   "execution_count": 19,
   "metadata": {},
   "outputs": [],
   "source": [
    "config = GPTConfig()\n",
    "model = GPT(config)"
   ]
  },
  {
   "cell_type": "code",
   "execution_count": 20,
   "metadata": {},
   "outputs": [
    {
     "data": {
      "text/plain": [
       "GPT(\n",
       "  (transformer): ModuleDict(\n",
       "    (wte): Embedding(50257, 768)\n",
       "    (wpe): Embedding(1024, 768)\n",
       "    (drop): Dropout(p=0.1, inplace=False)\n",
       "    (h): ModuleList(\n",
       "      (0-11): 12 x TransformerBlock(\n",
       "        (ln_1): LayerNorm((768,), eps=1e-05, elementwise_affine=True)\n",
       "        (ln_2): LayerNorm((768,), eps=1e-05, elementwise_affine=True)\n",
       "        (attn): MultiHeadAttention(\n",
       "          (q_proj): Linear(in_features=768, out_features=768, bias=True)\n",
       "          (k_proj): Linear(in_features=768, out_features=768, bias=True)\n",
       "          (v_proj): Linear(in_features=768, out_features=768, bias=True)\n",
       "          (out_proj): Linear(in_features=768, out_features=768, bias=True)\n",
       "          (attn_dropout): Dropout(p=0.1, inplace=False)\n",
       "          (resid_dropout): Dropout(p=0.1, inplace=False)\n",
       "        )\n",
       "        (mlp): FeedForward(\n",
       "          (c_fc): Linear(in_features=768, out_features=3072, bias=True)\n",
       "          (c_proj): Linear(in_features=3072, out_features=768, bias=True)\n",
       "          (dropout): Dropout(p=0.1, inplace=False)\n",
       "          (gelu): GELU(approximate='none')\n",
       "        )\n",
       "      )\n",
       "    )\n",
       "    (ln_f): LayerNorm((768,), eps=1e-05, elementwise_affine=True)\n",
       "  )\n",
       "  (lm_head): Linear(in_features=768, out_features=50257, bias=False)\n",
       ")"
      ]
     },
     "execution_count": 20,
     "metadata": {},
     "output_type": "execute_result"
    }
   ],
   "source": [
    "# Hyperparameters\n",
    "batch_size = 64\n",
    "epochs = 3\n",
    "learning_rate = 1e-4\n",
    "block_size = 1024 # seq length\n",
    "\n",
    "# Optimizer\n",
    "optimizer = optim.AdamW(model.parameters(), lr=learning_rate)\n",
    "\n",
    "# Check for GPU availability\n",
    "device = torch.device(\"cuda\" if torch.cuda.is_available() else \"cpu\")\n",
    "model.to(device)\n"
   ]
  },
  {
   "cell_type": "code",
   "execution_count": 21,
   "metadata": {},
   "outputs": [
    {
     "data": {
      "text/plain": [
       "======================================================================================================================================================\n",
       "Layer (type (var_name))                            Input Shape               Output Shape              Param #                   Mult-Adds\n",
       "======================================================================================================================================================\n",
       "GPT (GPT)                                          [64, 1024]                [64, 1024, 50257]         --                        --\n",
       "├─ModuleDict (transformer)                         --                        --                        --                        --\n",
       "│    └─Embedding (wte)                             [64, 1024]                [64, 1024, 768]           38,597,376                2,470,232,064\n",
       "│    └─Embedding (wpe)                             [1, 1024]                 [1, 1024, 768]            786,432                   786,432\n",
       "│    └─Dropout (drop)                              [64, 1024, 768]           [64, 1024, 768]           --                        --\n",
       "│    └─ModuleList (h)                              --                        --                        --                        --\n",
       "│    │    └─TransformerBlock (0)                   [64, 1024, 768]           [64, 1024, 768]           --                        --\n",
       "│    │    │    └─LayerNorm (ln_1)                  [64, 1024, 768]           [64, 1024, 768]           1,536                     98,304\n",
       "│    │    │    └─MultiHeadAttention (attn)         [64, 1024, 768]           [64, 1024, 768]           2,362,368                 151,191,552\n",
       "│    │    │    └─LayerNorm (ln_2)                  [64, 1024, 768]           [64, 1024, 768]           1,536                     98,304\n",
       "│    │    │    └─FeedForward (mlp)                 [64, 1024, 768]           [64, 1024, 768]           4,722,432                 302,235,648\n",
       "│    │    └─TransformerBlock (1)                   [64, 1024, 768]           [64, 1024, 768]           --                        --\n",
       "│    │    │    └─LayerNorm (ln_1)                  [64, 1024, 768]           [64, 1024, 768]           1,536                     98,304\n",
       "│    │    │    └─MultiHeadAttention (attn)         [64, 1024, 768]           [64, 1024, 768]           2,362,368                 151,191,552\n",
       "│    │    │    └─LayerNorm (ln_2)                  [64, 1024, 768]           [64, 1024, 768]           1,536                     98,304\n",
       "│    │    │    └─FeedForward (mlp)                 [64, 1024, 768]           [64, 1024, 768]           4,722,432                 302,235,648\n",
       "│    │    └─TransformerBlock (2)                   [64, 1024, 768]           [64, 1024, 768]           --                        --\n",
       "│    │    │    └─LayerNorm (ln_1)                  [64, 1024, 768]           [64, 1024, 768]           1,536                     98,304\n",
       "│    │    │    └─MultiHeadAttention (attn)         [64, 1024, 768]           [64, 1024, 768]           2,362,368                 151,191,552\n",
       "│    │    │    └─LayerNorm (ln_2)                  [64, 1024, 768]           [64, 1024, 768]           1,536                     98,304\n",
       "│    │    │    └─FeedForward (mlp)                 [64, 1024, 768]           [64, 1024, 768]           4,722,432                 302,235,648\n",
       "│    │    └─TransformerBlock (3)                   [64, 1024, 768]           [64, 1024, 768]           --                        --\n",
       "│    │    │    └─LayerNorm (ln_1)                  [64, 1024, 768]           [64, 1024, 768]           1,536                     98,304\n",
       "│    │    │    └─MultiHeadAttention (attn)         [64, 1024, 768]           [64, 1024, 768]           2,362,368                 151,191,552\n",
       "│    │    │    └─LayerNorm (ln_2)                  [64, 1024, 768]           [64, 1024, 768]           1,536                     98,304\n",
       "│    │    │    └─FeedForward (mlp)                 [64, 1024, 768]           [64, 1024, 768]           4,722,432                 302,235,648\n",
       "│    │    └─TransformerBlock (4)                   [64, 1024, 768]           [64, 1024, 768]           --                        --\n",
       "│    │    │    └─LayerNorm (ln_1)                  [64, 1024, 768]           [64, 1024, 768]           1,536                     98,304\n",
       "│    │    │    └─MultiHeadAttention (attn)         [64, 1024, 768]           [64, 1024, 768]           2,362,368                 151,191,552\n",
       "│    │    │    └─LayerNorm (ln_2)                  [64, 1024, 768]           [64, 1024, 768]           1,536                     98,304\n",
       "│    │    │    └─FeedForward (mlp)                 [64, 1024, 768]           [64, 1024, 768]           4,722,432                 302,235,648\n",
       "│    │    └─TransformerBlock (5)                   [64, 1024, 768]           [64, 1024, 768]           --                        --\n",
       "│    │    │    └─LayerNorm (ln_1)                  [64, 1024, 768]           [64, 1024, 768]           1,536                     98,304\n",
       "│    │    │    └─MultiHeadAttention (attn)         [64, 1024, 768]           [64, 1024, 768]           2,362,368                 151,191,552\n",
       "│    │    │    └─LayerNorm (ln_2)                  [64, 1024, 768]           [64, 1024, 768]           1,536                     98,304\n",
       "│    │    │    └─FeedForward (mlp)                 [64, 1024, 768]           [64, 1024, 768]           4,722,432                 302,235,648\n",
       "│    │    └─TransformerBlock (6)                   [64, 1024, 768]           [64, 1024, 768]           --                        --\n",
       "│    │    │    └─LayerNorm (ln_1)                  [64, 1024, 768]           [64, 1024, 768]           1,536                     98,304\n",
       "│    │    │    └─MultiHeadAttention (attn)         [64, 1024, 768]           [64, 1024, 768]           2,362,368                 151,191,552\n",
       "│    │    │    └─LayerNorm (ln_2)                  [64, 1024, 768]           [64, 1024, 768]           1,536                     98,304\n",
       "│    │    │    └─FeedForward (mlp)                 [64, 1024, 768]           [64, 1024, 768]           4,722,432                 302,235,648\n",
       "│    │    └─TransformerBlock (7)                   [64, 1024, 768]           [64, 1024, 768]           --                        --\n",
       "│    │    │    └─LayerNorm (ln_1)                  [64, 1024, 768]           [64, 1024, 768]           1,536                     98,304\n",
       "│    │    │    └─MultiHeadAttention (attn)         [64, 1024, 768]           [64, 1024, 768]           2,362,368                 151,191,552\n",
       "│    │    │    └─LayerNorm (ln_2)                  [64, 1024, 768]           [64, 1024, 768]           1,536                     98,304\n",
       "│    │    │    └─FeedForward (mlp)                 [64, 1024, 768]           [64, 1024, 768]           4,722,432                 302,235,648\n",
       "│    │    └─TransformerBlock (8)                   [64, 1024, 768]           [64, 1024, 768]           --                        --\n",
       "│    │    │    └─LayerNorm (ln_1)                  [64, 1024, 768]           [64, 1024, 768]           1,536                     98,304\n",
       "│    │    │    └─MultiHeadAttention (attn)         [64, 1024, 768]           [64, 1024, 768]           2,362,368                 151,191,552\n",
       "│    │    │    └─LayerNorm (ln_2)                  [64, 1024, 768]           [64, 1024, 768]           1,536                     98,304\n",
       "│    │    │    └─FeedForward (mlp)                 [64, 1024, 768]           [64, 1024, 768]           4,722,432                 302,235,648\n",
       "│    │    └─TransformerBlock (9)                   [64, 1024, 768]           [64, 1024, 768]           --                        --\n",
       "│    │    │    └─LayerNorm (ln_1)                  [64, 1024, 768]           [64, 1024, 768]           1,536                     98,304\n",
       "│    │    │    └─MultiHeadAttention (attn)         [64, 1024, 768]           [64, 1024, 768]           2,362,368                 151,191,552\n",
       "│    │    │    └─LayerNorm (ln_2)                  [64, 1024, 768]           [64, 1024, 768]           1,536                     98,304\n",
       "│    │    │    └─FeedForward (mlp)                 [64, 1024, 768]           [64, 1024, 768]           4,722,432                 302,235,648\n",
       "│    │    └─TransformerBlock (10)                  [64, 1024, 768]           [64, 1024, 768]           --                        --\n",
       "│    │    │    └─LayerNorm (ln_1)                  [64, 1024, 768]           [64, 1024, 768]           1,536                     98,304\n",
       "│    │    │    └─MultiHeadAttention (attn)         [64, 1024, 768]           [64, 1024, 768]           2,362,368                 151,191,552\n",
       "│    │    │    └─LayerNorm (ln_2)                  [64, 1024, 768]           [64, 1024, 768]           1,536                     98,304\n",
       "│    │    │    └─FeedForward (mlp)                 [64, 1024, 768]           [64, 1024, 768]           4,722,432                 302,235,648\n",
       "│    │    └─TransformerBlock (11)                  [64, 1024, 768]           [64, 1024, 768]           --                        --\n",
       "│    │    │    └─LayerNorm (ln_1)                  [64, 1024, 768]           [64, 1024, 768]           1,536                     98,304\n",
       "│    │    │    └─MultiHeadAttention (attn)         [64, 1024, 768]           [64, 1024, 768]           2,362,368                 151,191,552\n",
       "│    │    │    └─LayerNorm (ln_2)                  [64, 1024, 768]           [64, 1024, 768]           1,536                     98,304\n",
       "│    │    │    └─FeedForward (mlp)                 [64, 1024, 768]           [64, 1024, 768]           4,722,432                 302,235,648\n",
       "│    └─LayerNorm (ln_f)                            [64, 1024, 768]           [64, 1024, 768]           1,536                     98,304\n",
       "├─Linear (lm_head)                                 [64, 1024, 768]           [64, 1024, 50257]         38,597,376                2,470,232,064\n",
       "======================================================================================================================================================\n",
       "Total params: 163,037,184\n",
       "Trainable params: 163,037,184\n",
       "Non-trainable params: 0\n",
       "Total mult-adds (G): 10.38\n",
       "======================================================================================================================================================\n",
       "Input size (MB): 0.52\n",
       "Forward/backward pass size (MB): 80310.96\n",
       "Params size (MB): 652.15\n",
       "Estimated Total Size (MB): 80963.63\n",
       "======================================================================================================================================================"
      ]
     },
     "execution_count": 21,
     "metadata": {},
     "output_type": "execute_result"
    }
   ],
   "source": [
    "from torchinfo import summary\n",
    "\n",
    "# Create example input tensor with correct dtype\n",
    "summary(\n",
    "    model,\n",
    "    input_size=(batch_size, config.block_size),\n",
    "    dtypes=[torch.long],  # Specifically tell it to use long tensors\n",
    "    device=device,\n",
    "    col_names=[\"input_size\", \"output_size\", \"num_params\", \"mult_adds\"],\n",
    "    depth=4,  # Show nested layers up to this depth\n",
    "    row_settings=[\"var_names\"]\n",
    ")"
   ]
  },
  {
   "cell_type": "code",
   "execution_count": 9,
   "metadata": {},
   "outputs": [],
   "source": [
    "text_encoded = torch.tensor(encode(text), dtype=torch.long)"
   ]
  },
  {
   "cell_type": "code",
   "execution_count": 10,
   "metadata": {},
   "outputs": [],
   "source": [
    "def get_batch(data):\n",
    "    ix = torch.randint(len(data) - block_size, (batch_size,))\n",
    "    x = torch.stack([data[i:i+block_size] for i in ix])\n",
    "    y = torch.stack([data[i+1:i+block_size+1] for i in ix])\n",
    "    return x.to(device), y.to(device)"
   ]
  },
  {
   "cell_type": "code",
   "execution_count": 11,
   "metadata": {},
   "outputs": [
    {
     "name": "stderr",
     "output_type": "stream",
     "text": [
      "  0%|          | 0/17 [00:00<?, ?it/s]"
     ]
    },
    {
     "ename": "",
     "evalue": "",
     "output_type": "error",
     "traceback": [
      "\u001b[1;31mThe Kernel crashed while executing code in the current cell or a previous cell. \n",
      "\u001b[1;31mPlease review the code in the cell(s) to identify a possible cause of the failure. \n",
      "\u001b[1;31mClick <a href='https://aka.ms/vscodeJupyterKernelCrash'>here</a> for more info. \n",
      "\u001b[1;31mView Jupyter <a href='command:jupyter.viewOutput'>log</a> for further details."
     ]
    }
   ],
   "source": [
    "# Training loop\n",
    "for epoch in range(epochs):\n",
    "    pbar = tqdm(range(len(text_encoded) // (batch_size * block_size)))\n",
    "    running_loss = 0.0\n",
    "    \n",
    "    for i in pbar:\n",
    "        # Get batch\n",
    "        xb, yb = get_batch(data=text_encoded)\n",
    "        \n",
    "        # Forward pass\n",
    "        optimizer.zero_grad()\n",
    "        logits = model(xb)\n",
    "        loss = F.cross_entropy(logits.view(-1, vocab_size), yb.view(-1))\n",
    "        \n",
    "        # Backward pass and optimization\n",
    "        loss.backward()\n",
    "        optimizer.step()\n",
    "        \n",
    "        # Update running loss\n",
    "        running_loss += loss.item()\n",
    "        pbar.set_description(f\"Epoch {epoch+1}/{epochs}, Loss: {loss.item():.4f}\")\n",
    "    \n",
    "    print(f\"Epoch {epoch+1}/{epochs}, Average Loss: {running_loss/len(pbar):.4f}\")"
   ]
  },
  {
   "cell_type": "code",
   "execution_count": null,
   "metadata": {},
   "outputs": [],
   "source": []
  }
 ],
 "metadata": {
  "kernelspec": {
   "display_name": "era_dl_env",
   "language": "python",
   "name": "python3"
  },
  "language_info": {
   "codemirror_mode": {
    "name": "ipython",
    "version": 3
   },
   "file_extension": ".py",
   "mimetype": "text/x-python",
   "name": "python",
   "nbconvert_exporter": "python",
   "pygments_lexer": "ipython3",
   "version": "3.10.15"
  }
 },
 "nbformat": 4,
 "nbformat_minor": 2
}
