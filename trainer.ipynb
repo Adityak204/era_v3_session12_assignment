{
 "cells": [
  {
   "cell_type": "code",
   "execution_count": 2,
   "metadata": {},
   "outputs": [],
   "source": [
    "import os\n",
    "import torch\n",
    "import torch.nn as nn\n",
    "import torch.nn.functional as F\n",
    "from dataclasses import dataclass\n",
    "from loguru import logger\n",
    "from datetime import datetime\n",
    "from tqdm import tqdm\n",
    "import torch.optim as optim\n",
    "import numpy as np\n",
    "\n",
    "from src.gpt_base import GPT"
   ]
  },
  {
   "cell_type": "markdown",
   "metadata": {},
   "source": [
    "## Setting up Logger"
   ]
  },
  {
   "cell_type": "code",
   "execution_count": null,
   "metadata": {},
   "outputs": [],
   "source": [
    "def setup_logging(log_dir=\"logs\"):\n",
    "    os.makedirs(log_dir, exist_ok=True)\n",
    "    timestamp = datetime.now().strftime(\"%Y%m%d_%H%M%S\")\n",
    "    log_file = os.path.join(log_dir, f\"training_{timestamp}.log\")\n",
    "    \n",
    "    logger.remove()\n",
    "    logger.add(\n",
    "        lambda msg: print(msg),\n",
    "        format=\"<green>{time:YYYY-MM-DD HH:mm:ss}</green> | {message}\",\n",
    "        colorize=True,\n",
    "        level=\"INFO\"\n",
    "    )\n",
    "    \n",
    "    logger.add(\n",
    "        log_file,\n",
    "        format=\"{time:YYYY-MM-DD HH:mm:ss} | {level} | {message}\",\n",
    "        level=\"INFO\",\n",
    "        rotation=\"100 MB\",\n",
    "        retention=\"30 days\"\n",
    "    )\n",
    "    \n",
    "    logger.info(f\"Logging setup complete. Logs will be saved to: {log_file}\")\n",
    "    return log_file"
   ]
  },
  {
   "cell_type": "markdown",
   "metadata": {},
   "source": [
    "## Load Shakespear data"
   ]
  },
  {
   "cell_type": "code",
   "execution_count": 3,
   "metadata": {},
   "outputs": [
    {
     "data": {
      "text/plain": [
       "'First Citizen:\\nBefore we proceed any further, hear me speak.\\n\\nAll:\\nSpeak, speak.\\n\\nFirst Citizen:\\nYou'"
      ]
     },
     "execution_count": 3,
     "metadata": {},
     "output_type": "execute_result"
    }
   ],
   "source": [
    "## Load Data\n",
    "_path = \"/Users/aditya/Documents/self_learning/ERA V3/week 12/input.txt\"\n",
    "with open(_path, \"r\") as f:\n",
    "    text = f.read()\n",
    "\n",
    "text[:100]"
   ]
  },
  {
   "cell_type": "code",
   "execution_count": 4,
   "metadata": {},
   "outputs": [],
   "source": [
    "# First, let's create character-level encoding\n",
    "chars = sorted(list(set(text)))\n",
    "vocab_size = len(chars)\n",
    "stoi = {ch: i for i, ch in enumerate(chars)}\n",
    "itos = {i: ch for i, ch in enumerate(chars)}"
   ]
  },
  {
   "cell_type": "code",
   "execution_count": 25,
   "metadata": {},
   "outputs": [],
   "source": [
    "# save stoi as json\n",
    "import json\n",
    "with open(\"docs/stoi.json\", \"w\") as f:\n",
    "    json.dump(stoi, f)\n",
    "\n",
    "# save itos as json\n",
    "with open(\"docs/itos.json\", \"w\") as f:\n",
    "    json.dump(itos, f)"
   ]
  },
  {
   "cell_type": "code",
   "execution_count": 5,
   "metadata": {},
   "outputs": [
    {
     "data": {
      "text/plain": [
       "65"
      ]
     },
     "execution_count": 5,
     "metadata": {},
     "output_type": "execute_result"
    }
   ],
   "source": [
    "vocab_size"
   ]
  },
  {
   "cell_type": "code",
   "execution_count": 6,
   "metadata": {},
   "outputs": [],
   "source": [
    "# Encoding/Decoding functions\n",
    "def encode(s): \n",
    "    return [stoi[c] for c in s]\n",
    "\n",
    "def decode(l): \n",
    "    return ''.join([itos[i] for i in l])"
   ]
  },
  {
   "cell_type": "markdown",
   "metadata": {},
   "source": [
    "## Model Training"
   ]
  },
  {
   "cell_type": "code",
   "execution_count": 7,
   "metadata": {},
   "outputs": [],
   "source": [
    "@dataclass\n",
    "class GPTConfig:\n",
    "    block_size: int = 1024  # max sequence length\n",
    "    vocab_size: int = vocab_size\n",
    "    num_layer: int = 12  # number of layers\n",
    "    num_head: int = 12  # number of heads\n",
    "    emb_dim: int = 768  # embedding dimension\n",
    "    dropout: float = 0.1  # dropout rate"
   ]
  },
  {
   "cell_type": "code",
   "execution_count": 8,
   "metadata": {},
   "outputs": [],
   "source": [
    "config = GPTConfig()\n",
    "model = GPT(config)"
   ]
  },
  {
   "cell_type": "code",
   "execution_count": 23,
   "metadata": {},
   "outputs": [
    {
     "data": {
      "text/plain": [
       "GPT(\n",
       "  (transformer): ModuleDict(\n",
       "    (wte): Embedding(65, 768)\n",
       "    (wpe): Embedding(1024, 768)\n",
       "    (drop): Dropout(p=0.1, inplace=False)\n",
       "    (h): ModuleList(\n",
       "      (0-11): 12 x TransformerBlock(\n",
       "        (ln_1): LayerNorm((768,), eps=1e-05, elementwise_affine=True)\n",
       "        (ln_2): LayerNorm((768,), eps=1e-05, elementwise_affine=True)\n",
       "        (attn): MultiHeadAttention(\n",
       "          (q_proj): Linear(in_features=768, out_features=768, bias=True)\n",
       "          (k_proj): Linear(in_features=768, out_features=768, bias=True)\n",
       "          (v_proj): Linear(in_features=768, out_features=768, bias=True)\n",
       "          (out_proj): Linear(in_features=768, out_features=768, bias=True)\n",
       "          (attn_dropout): Dropout(p=0.1, inplace=False)\n",
       "          (resid_dropout): Dropout(p=0.1, inplace=False)\n",
       "        )\n",
       "        (mlp): FeedForward(\n",
       "          (c_fc): Linear(in_features=768, out_features=3072, bias=True)\n",
       "          (c_proj): Linear(in_features=3072, out_features=768, bias=True)\n",
       "          (dropout): Dropout(p=0.1, inplace=False)\n",
       "          (gelu): GELU(approximate='none')\n",
       "        )\n",
       "      )\n",
       "    )\n",
       "    (ln_f): LayerNorm((768,), eps=1e-05, elementwise_affine=True)\n",
       "  )\n",
       "  (lm_head): Linear(in_features=768, out_features=65, bias=False)\n",
       ")"
      ]
     },
     "execution_count": 23,
     "metadata": {},
     "output_type": "execute_result"
    }
   ],
   "source": [
    "# Hyperparameters\n",
    "batch_size = 4\n",
    "epochs = 3\n",
    "learning_rate = 1e-4\n",
    "block_size = 1024 # seq length\n",
    "\n",
    "# Optimizer\n",
    "optimizer = optim.AdamW(model.parameters(), lr=learning_rate)\n",
    "\n",
    "# Check for GPU availability\n",
    "device = torch.device(\"cuda\" if torch.cuda.is_available() else \"cpu\")\n",
    "model.to(device)\n"
   ]
  },
  {
   "cell_type": "code",
   "execution_count": 24,
   "metadata": {},
   "outputs": [
    {
     "data": {
      "text/plain": [
       "======================================================================================================================================================\n",
       "Layer (type (var_name))                            Input Shape               Output Shape              Param #                   Mult-Adds\n",
       "======================================================================================================================================================\n",
       "GPT (GPT)                                          [4, 1024]                 [4, 1024, 65]             --                        --\n",
       "├─ModuleDict (transformer)                         --                        --                        --                        --\n",
       "│    └─Embedding (wte)                             [4, 1024]                 [4, 1024, 768]            49,920                    199,680\n",
       "│    └─Embedding (wpe)                             [1, 1024]                 [1, 1024, 768]            786,432                   786,432\n",
       "│    └─Dropout (drop)                              [4, 1024, 768]            [4, 1024, 768]            --                        --\n",
       "│    └─ModuleList (h)                              --                        --                        --                        --\n",
       "│    │    └─TransformerBlock (0)                   [4, 1024, 768]            [4, 1024, 768]            --                        --\n",
       "│    │    │    └─LayerNorm (ln_1)                  [4, 1024, 768]            [4, 1024, 768]            1,536                     6,144\n",
       "│    │    │    └─MultiHeadAttention (attn)         [4, 1024, 768]            [4, 1024, 768]            2,362,368                 9,449,472\n",
       "│    │    │    └─LayerNorm (ln_2)                  [4, 1024, 768]            [4, 1024, 768]            1,536                     6,144\n",
       "│    │    │    └─FeedForward (mlp)                 [4, 1024, 768]            [4, 1024, 768]            4,722,432                 18,889,728\n",
       "│    │    └─TransformerBlock (1)                   [4, 1024, 768]            [4, 1024, 768]            --                        --\n",
       "│    │    │    └─LayerNorm (ln_1)                  [4, 1024, 768]            [4, 1024, 768]            1,536                     6,144\n",
       "│    │    │    └─MultiHeadAttention (attn)         [4, 1024, 768]            [4, 1024, 768]            2,362,368                 9,449,472\n",
       "│    │    │    └─LayerNorm (ln_2)                  [4, 1024, 768]            [4, 1024, 768]            1,536                     6,144\n",
       "│    │    │    └─FeedForward (mlp)                 [4, 1024, 768]            [4, 1024, 768]            4,722,432                 18,889,728\n",
       "│    │    └─TransformerBlock (2)                   [4, 1024, 768]            [4, 1024, 768]            --                        --\n",
       "│    │    │    └─LayerNorm (ln_1)                  [4, 1024, 768]            [4, 1024, 768]            1,536                     6,144\n",
       "│    │    │    └─MultiHeadAttention (attn)         [4, 1024, 768]            [4, 1024, 768]            2,362,368                 9,449,472\n",
       "│    │    │    └─LayerNorm (ln_2)                  [4, 1024, 768]            [4, 1024, 768]            1,536                     6,144\n",
       "│    │    │    └─FeedForward (mlp)                 [4, 1024, 768]            [4, 1024, 768]            4,722,432                 18,889,728\n",
       "│    │    └─TransformerBlock (3)                   [4, 1024, 768]            [4, 1024, 768]            --                        --\n",
       "│    │    │    └─LayerNorm (ln_1)                  [4, 1024, 768]            [4, 1024, 768]            1,536                     6,144\n",
       "│    │    │    └─MultiHeadAttention (attn)         [4, 1024, 768]            [4, 1024, 768]            2,362,368                 9,449,472\n",
       "│    │    │    └─LayerNorm (ln_2)                  [4, 1024, 768]            [4, 1024, 768]            1,536                     6,144\n",
       "│    │    │    └─FeedForward (mlp)                 [4, 1024, 768]            [4, 1024, 768]            4,722,432                 18,889,728\n",
       "│    │    └─TransformerBlock (4)                   [4, 1024, 768]            [4, 1024, 768]            --                        --\n",
       "│    │    │    └─LayerNorm (ln_1)                  [4, 1024, 768]            [4, 1024, 768]            1,536                     6,144\n",
       "│    │    │    └─MultiHeadAttention (attn)         [4, 1024, 768]            [4, 1024, 768]            2,362,368                 9,449,472\n",
       "│    │    │    └─LayerNorm (ln_2)                  [4, 1024, 768]            [4, 1024, 768]            1,536                     6,144\n",
       "│    │    │    └─FeedForward (mlp)                 [4, 1024, 768]            [4, 1024, 768]            4,722,432                 18,889,728\n",
       "│    │    └─TransformerBlock (5)                   [4, 1024, 768]            [4, 1024, 768]            --                        --\n",
       "│    │    │    └─LayerNorm (ln_1)                  [4, 1024, 768]            [4, 1024, 768]            1,536                     6,144\n",
       "│    │    │    └─MultiHeadAttention (attn)         [4, 1024, 768]            [4, 1024, 768]            2,362,368                 9,449,472\n",
       "│    │    │    └─LayerNorm (ln_2)                  [4, 1024, 768]            [4, 1024, 768]            1,536                     6,144\n",
       "│    │    │    └─FeedForward (mlp)                 [4, 1024, 768]            [4, 1024, 768]            4,722,432                 18,889,728\n",
       "│    │    └─TransformerBlock (6)                   [4, 1024, 768]            [4, 1024, 768]            --                        --\n",
       "│    │    │    └─LayerNorm (ln_1)                  [4, 1024, 768]            [4, 1024, 768]            1,536                     6,144\n",
       "│    │    │    └─MultiHeadAttention (attn)         [4, 1024, 768]            [4, 1024, 768]            2,362,368                 9,449,472\n",
       "│    │    │    └─LayerNorm (ln_2)                  [4, 1024, 768]            [4, 1024, 768]            1,536                     6,144\n",
       "│    │    │    └─FeedForward (mlp)                 [4, 1024, 768]            [4, 1024, 768]            4,722,432                 18,889,728\n",
       "│    │    └─TransformerBlock (7)                   [4, 1024, 768]            [4, 1024, 768]            --                        --\n",
       "│    │    │    └─LayerNorm (ln_1)                  [4, 1024, 768]            [4, 1024, 768]            1,536                     6,144\n",
       "│    │    │    └─MultiHeadAttention (attn)         [4, 1024, 768]            [4, 1024, 768]            2,362,368                 9,449,472\n",
       "│    │    │    └─LayerNorm (ln_2)                  [4, 1024, 768]            [4, 1024, 768]            1,536                     6,144\n",
       "│    │    │    └─FeedForward (mlp)                 [4, 1024, 768]            [4, 1024, 768]            4,722,432                 18,889,728\n",
       "│    │    └─TransformerBlock (8)                   [4, 1024, 768]            [4, 1024, 768]            --                        --\n",
       "│    │    │    └─LayerNorm (ln_1)                  [4, 1024, 768]            [4, 1024, 768]            1,536                     6,144\n",
       "│    │    │    └─MultiHeadAttention (attn)         [4, 1024, 768]            [4, 1024, 768]            2,362,368                 9,449,472\n",
       "│    │    │    └─LayerNorm (ln_2)                  [4, 1024, 768]            [4, 1024, 768]            1,536                     6,144\n",
       "│    │    │    └─FeedForward (mlp)                 [4, 1024, 768]            [4, 1024, 768]            4,722,432                 18,889,728\n",
       "│    │    └─TransformerBlock (9)                   [4, 1024, 768]            [4, 1024, 768]            --                        --\n",
       "│    │    │    └─LayerNorm (ln_1)                  [4, 1024, 768]            [4, 1024, 768]            1,536                     6,144\n",
       "│    │    │    └─MultiHeadAttention (attn)         [4, 1024, 768]            [4, 1024, 768]            2,362,368                 9,449,472\n",
       "│    │    │    └─LayerNorm (ln_2)                  [4, 1024, 768]            [4, 1024, 768]            1,536                     6,144\n",
       "│    │    │    └─FeedForward (mlp)                 [4, 1024, 768]            [4, 1024, 768]            4,722,432                 18,889,728\n",
       "│    │    └─TransformerBlock (10)                  [4, 1024, 768]            [4, 1024, 768]            --                        --\n",
       "│    │    │    └─LayerNorm (ln_1)                  [4, 1024, 768]            [4, 1024, 768]            1,536                     6,144\n",
       "│    │    │    └─MultiHeadAttention (attn)         [4, 1024, 768]            [4, 1024, 768]            2,362,368                 9,449,472\n",
       "│    │    │    └─LayerNorm (ln_2)                  [4, 1024, 768]            [4, 1024, 768]            1,536                     6,144\n",
       "│    │    │    └─FeedForward (mlp)                 [4, 1024, 768]            [4, 1024, 768]            4,722,432                 18,889,728\n",
       "│    │    └─TransformerBlock (11)                  [4, 1024, 768]            [4, 1024, 768]            --                        --\n",
       "│    │    │    └─LayerNorm (ln_1)                  [4, 1024, 768]            [4, 1024, 768]            1,536                     6,144\n",
       "│    │    │    └─MultiHeadAttention (attn)         [4, 1024, 768]            [4, 1024, 768]            2,362,368                 9,449,472\n",
       "│    │    │    └─LayerNorm (ln_2)                  [4, 1024, 768]            [4, 1024, 768]            1,536                     6,144\n",
       "│    │    │    └─FeedForward (mlp)                 [4, 1024, 768]            [4, 1024, 768]            4,722,432                 18,889,728\n",
       "│    └─LayerNorm (ln_f)                            [4, 1024, 768]            [4, 1024, 768]            1,536                     6,144\n",
       "├─Linear (lm_head)                                 [4, 1024, 768]            [4, 1024, 65]             49,920                    199,680\n",
       "======================================================================================================================================================\n",
       "Total params: 85,942,272\n",
       "Trainable params: 85,942,272\n",
       "Non-trainable params: 0\n",
       "Total mult-adds (M): 341.41\n",
       "======================================================================================================================================================\n",
       "Input size (MB): 0.03\n",
       "Forward/backward pass size (MB): 3380.64\n",
       "Params size (MB): 343.77\n",
       "Estimated Total Size (MB): 3724.44\n",
       "======================================================================================================================================================"
      ]
     },
     "execution_count": 24,
     "metadata": {},
     "output_type": "execute_result"
    }
   ],
   "source": [
    "from torchinfo import summary\n",
    "\n",
    "# Create example input tensor with correct dtype\n",
    "summary(\n",
    "    model,\n",
    "    input_size=(batch_size, config.block_size),\n",
    "    dtypes=[torch.long],  # Specifically tell it to use long tensors\n",
    "    device=device,\n",
    "    col_names=[\"input_size\", \"output_size\", \"num_params\", \"mult_adds\"],\n",
    "    depth=4,  # Show nested layers up to this depth\n",
    "    row_settings=[\"var_names\"]\n",
    ")"
   ]
  },
  {
   "cell_type": "code",
   "execution_count": 11,
   "metadata": {},
   "outputs": [],
   "source": [
    "text_encoded = torch.tensor(encode(text), dtype=torch.long)"
   ]
  },
  {
   "cell_type": "code",
   "execution_count": 12,
   "metadata": {},
   "outputs": [],
   "source": [
    "def get_batch(data):\n",
    "    ix = torch.randint(len(data) - block_size, (batch_size,))\n",
    "    x = torch.stack([data[i:i+block_size] for i in ix])\n",
    "    y = torch.stack([data[i+1:i+block_size+1] for i in ix])\n",
    "    return x.to(device), y.to(device)"
   ]
  },
  {
   "cell_type": "code",
   "execution_count": 11,
   "metadata": {},
   "outputs": [
    {
     "name": "stderr",
     "output_type": "stream",
     "text": [
      "  0%|          | 0/17 [00:00<?, ?it/s]"
     ]
    },
    {
     "ename": "",
     "evalue": "",
     "output_type": "error",
     "traceback": [
      "\u001b[1;31mThe Kernel crashed while executing code in the current cell or a previous cell. \n",
      "\u001b[1;31mPlease review the code in the cell(s) to identify a possible cause of the failure. \n",
      "\u001b[1;31mClick <a href='https://aka.ms/vscodeJupyterKernelCrash'>here</a> for more info. \n",
      "\u001b[1;31mView Jupyter <a href='command:jupyter.viewOutput'>log</a> for further details."
     ]
    }
   ],
   "source": [
    "log_dir = \"/kaggle/working/\"\n",
    "log_file = setup_logging(log_dir=log_dir)\n",
    "\n",
    "# Training loop\n",
    "for epoch in range(60, epochs+1):\n",
    "    pbar = tqdm(range(len(text_encoded) // (batch_size * block_size)))\n",
    "    running_loss = 0.0\n",
    "    best_loss = np.inf\n",
    "    \n",
    "    for i in pbar:\n",
    "        # Get batch\n",
    "        xb, yb = get_batch(data=text_encoded)\n",
    "        \n",
    "        # Forward pass\n",
    "        optimizer.zero_grad()\n",
    "        logits = model(xb)\n",
    "        loss = F.cross_entropy(logits.view(-1, vocab_size), yb.view(-1))\n",
    "        \n",
    "        # Backward pass and optimization\n",
    "        loss.backward()\n",
    "        optimizer.step()\n",
    "        \n",
    "        # Update running loss\n",
    "        running_loss += loss.item()\n",
    "        pbar.set_description(f\"Epoch {epoch+1}/{epochs}, Loss: {loss.item():.4f}\")\n",
    "    \n",
    "    logger.info(f\"Epoch {epoch+1}/{epochs}, Average Loss: {running_loss/len(pbar):.4f}\")\n",
    "    avg_loss = running_loss/len(pbar)\n",
    "    if avg_loss < best_loss:\n",
    "        cp = {\n",
    "            \"model_state_dict\": model.module.state_dict() if isinstance(model, nn.DataParallel) else model.state_dict(),\n",
    "            'loss': avg_loss,\n",
    "        }        \n",
    "        torch.save(cp, f\"gpt_model_and_loss.pth\")\n",
    "        best_loss = avg_loss\n",
    "        print(f\"Model saved : epoch_{epoch}_loss_{avg_loss:.4f}\")\n",
    "        "
   ]
  },
  {
   "cell_type": "markdown",
   "metadata": {},
   "source": [
    "## Sentence Generation"
   ]
  },
  {
   "cell_type": "code",
   "execution_count": 15,
   "metadata": {},
   "outputs": [
    {
     "data": {
      "text/plain": [
       "<All keys matched successfully>"
      ]
     },
     "execution_count": 15,
     "metadata": {},
     "output_type": "execute_result"
    }
   ],
   "source": [
    "## Load Model Checkpoint\n",
    "checkpoint_path = \"/Users/aditya/Documents/self_learning/ERA V3/week 12/model artifacts/gpt_model_and_loss.pth\"\n",
    "\n",
    "# load model checkpoint\n",
    "model = GPT(config)\n",
    "model = model.to(device)\n",
    "_dict = torch.load(checkpoint_path, map_location=torch.device('cpu'))\n",
    "model_state_dict = _dict[\"model_state_dict\"]\n",
    "model.load_state_dict(model_state_dict)\n"
   ]
  },
  {
   "cell_type": "code",
   "execution_count": 16,
   "metadata": {},
   "outputs": [],
   "source": [
    "## Using Greedy decoding\n",
    "def predict_next_word(text, model, seq_len=50):\n",
    "    for _ in range(seq_len):\n",
    "        xb = torch.tensor(encode(text)).unsqueeze(0).to(device)\n",
    "        yb = model(xb)\n",
    "        next_word = yb[0, -1].argmax().item()\n",
    "        text += itos[next_word]\n",
    "    return text"
   ]
  },
  {
   "cell_type": "code",
   "execution_count": 22,
   "metadata": {},
   "outputs": [
    {
     "name": "stdout",
     "output_type": "stream",
     "text": [
      "I pray you.\n",
      "\n",
      "GREMIO:\n",
      "I am a presently for the presentle's face.\n",
      "\n",
      "TRANIO:\n",
      "I pray you, sir, I pray you to do me.\n",
      "\n",
      "GREMIO:\n",
      "I am you a love so love in this master master\n",
      "to me so longer.\n",
      "\n",
      "TRANIO:\n",
      "I am a poor that yo\n"
     ]
    }
   ],
   "source": [
    "print(predict_next_word(text=\"I pray you.\", model=model, seq_len=200))"
   ]
  },
  {
   "cell_type": "code",
   "execution_count": null,
   "metadata": {},
   "outputs": [],
   "source": []
  }
 ],
 "metadata": {
  "kernelspec": {
   "display_name": "era_dl_env",
   "language": "python",
   "name": "python3"
  },
  "language_info": {
   "codemirror_mode": {
    "name": "ipython",
    "version": 3
   },
   "file_extension": ".py",
   "mimetype": "text/x-python",
   "name": "python",
   "nbconvert_exporter": "python",
   "pygments_lexer": "ipython3",
   "version": "3.10.15"
  }
 },
 "nbformat": 4,
 "nbformat_minor": 2
}
